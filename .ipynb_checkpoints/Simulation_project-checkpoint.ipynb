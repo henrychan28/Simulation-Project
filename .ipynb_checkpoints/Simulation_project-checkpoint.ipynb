{
 "cells": [
  {
   "cell_type": "code",
   "execution_count": 32,
   "metadata": {
    "collapsed": true
   },
   "outputs": [],
   "source": [
    "import random\n",
    "import numpy as np"
   ]
  },
  {
   "cell_type": "code",
   "execution_count": 34,
   "metadata": {
    "collapsed": false
   },
   "outputs": [
    {
     "data": {
      "text/plain": [
       "array([-0.106551  ,  0.67715954, -0.37437988,  1.29804214,  2.62151584,\n",
       "       -0.03005837,  0.83980367, -0.09316983, -0.59834665, -0.96825318])"
      ]
     },
     "execution_count": 34,
     "metadata": {},
     "output_type": "execute_result"
    }
   ],
   "source": [
    "#random.random()\n",
    "np.random.normal(size=10)"
   ]
  },
  {
   "cell_type": "code",
   "execution_count": null,
   "metadata": {
    "collapsed": true
   },
   "outputs": [],
   "source": []
  },
  {
   "cell_type": "code",
   "execution_count": 35,
   "metadata": {
    "collapsed": true
   },
   "outputs": [],
   "source": [
    "def generate_x(w, ita, V, rho=0.6):\n",
    "    '''\n",
    "    Generate an instance of market value of the company according to given variables\n",
    "    -------------------\n",
    "    Parameters:\n",
    "    w - market shock\n",
    "    ita - idiosyncractic risk\n",
    "    V - common factor that affects the economy\n",
    "    rho - weight factor\n",
    "    \n",
    "    Return\n",
    "    Market value of the company\n",
    "    '''\n",
    "    return (rho*V+ita*(1-rho**2)**0.5)/max(1, w)"
   ]
  },
  {
   "cell_type": "code",
   "execution_count": 36,
   "metadata": {
    "collapsed": true
   },
   "outputs": [],
   "source": [
    "def generate_y(i, r_i, x_i):\n",
    "    '''\n",
    "    Generate an instance of return on the investment \n",
    "    ---------------------\n",
    "    i - the company index \n",
    "    r_i - \n",
    "    '''\n",
    "    return random.random()*(i+x_i*r_i**2)"
   ]
  },
  {
   "cell_type": "code",
   "execution_count": 43,
   "metadata": {
    "collapsed": true
   },
   "outputs": [],
   "source": [
    "def generate_initialization_rv(i):\n",
    "    w = np.random.exponential()\n",
    "    ita = np.random.normal(i**0.5)\n",
    "    V = np.random.normal()\n",
    "    return w, ita, V"
   ]
  },
  {
   "cell_type": "code",
   "execution_count": 48,
   "metadata": {
    "collapsed": true
   },
   "outputs": [],
   "source": [
    "def generate_rv(i, r):\n",
    "    w, ita, V = generate_initialization_rv(i)\n",
    "    x = generate_x(w, ita, V)\n",
    "    y = generate_y(i, r, x)\n",
    "    return x, ita, V, x, y"
   ]
  },
  {
   "cell_type": "code",
   "execution_count": null,
   "metadata": {
    "collapsed": true
   },
   "outputs": [],
   "source": []
  }
 ],
 "metadata": {
  "anaconda-cloud": {},
  "kernelspec": {
   "display_name": "Python [conda env:py35]",
   "language": "python",
   "name": "conda-env-py35-py"
  },
  "language_info": {
   "codemirror_mode": {
    "name": "ipython",
    "version": 3
   },
   "file_extension": ".py",
   "mimetype": "text/x-python",
   "name": "python",
   "nbconvert_exporter": "python",
   "pygments_lexer": "ipython3",
   "version": "3.5.4"
  }
 },
 "nbformat": 4,
 "nbformat_minor": 1
}
