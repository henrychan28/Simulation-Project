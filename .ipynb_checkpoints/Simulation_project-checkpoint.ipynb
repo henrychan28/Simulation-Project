{
 "cells": [
  {
   "cell_type": "markdown",
   "metadata": {},
   "source": [
    "<h3>Import Libraries</h3>"
   ]
  },
  {
   "cell_type": "code",
   "execution_count": 1,
   "metadata": {
    "collapsed": true
   },
   "outputs": [],
   "source": [
    "import random\n",
    "import math\n",
    "\n",
    "import numpy as np"
   ]
  },
  {
   "cell_type": "markdown",
   "metadata": {},
   "source": [
    "<h3>Helper Function</h3>"
   ]
  },
  {
   "cell_type": "code",
   "execution_count": 2,
   "metadata": {
    "collapsed": true
   },
   "outputs": [],
   "source": [
    "def f_indicator(boolean):\n",
    "    return 1 if boolean else 0"
   ]
  },
  {
   "cell_type": "markdown",
   "metadata": {},
   "source": [
    "<h3>Random Variable Generation</h3>"
   ]
  },
  {
   "cell_type": "code",
   "execution_count": 13,
   "metadata": {
    "collapsed": true
   },
   "outputs": [],
   "source": [
    "def generate_initialization_rv(number_of_companies, market_shock_rate):\n",
    "    '''\n",
    "    Generate all initial variables for simulating Market Value and ROI\n",
    "    ----------------------\n",
    "    Return\n",
    "    w - market shock\n",
    "    ita - idiosyncractic risk\n",
    "    V - common factor that affects the economy\n",
    "    '''\n",
    "    w = np.random.exponential(1/market_shock_rate)\n",
    "    ita = np.zeros(number_of_companies)\n",
    "    for i in range(number_of_companies):\n",
    "        ita[i] = np.random.normal(loc=0., scale=i**0.5)\n",
    "    V = np.random.normal()\n",
    "    return w, ita, V\n",
    "\n",
    "def generate_x(w, ita, V, rho):\n",
    "    '''\n",
    "    Generate an instance of market value of the company according to given variables\n",
    "    -------------------\n",
    "    Parameters:\n",
    "    w - market shock\n",
    "    ita - idiosyncractic risk\n",
    "    V - common factor that affects the economy\n",
    "    rho - weight factor\n",
    "    \n",
    "    Return\n",
    "    Market value of the company\n",
    "    '''\n",
    "    return (rho*V+ita*(1-rho**2)**0.5)/max(1, w)\n",
    "\n",
    "def generate_y(r, x, investor_type):\n",
    "    '''\n",
    "    Generate an instance of return on the investment\n",
    "    ---------------------\n",
    "    Parameters\n",
    "    r - allocation vector\n",
    "    x - market value of the company\n",
    "    \n",
    "    Return\n",
    "    U - Instance of uniform distribution r.v.\n",
    "    y - Return on the investment (ROI)\n",
    "    '''\n",
    "    number_of_companies = len(x)\n",
    "    y = np.zeros(number_of_companies)\n",
    "    U = np.zeros(number_of_companies)\n",
    "    for i in range(len(x)):\n",
    "        U[i] = random.random()\n",
    "        if investor_type == \"big\":\n",
    "            y[i] = (i + x[i]*r[i]**2)*U[i]\n",
    "        elif investor_type == \"small\":\n",
    "            y[i] = x[i]*U[i]\n",
    "        else:\n",
    "            raise(\"Investor type not supported\")\n",
    "    return U, y\n",
    "\n",
    "def generate_rv(r, rho, market_shock_rate, investor_type, number_of_companies=3):\n",
    "    '''\n",
    "    Simulate one instance of Market Return and ROI\n",
    "    -------------------------\n",
    "    Parameters\n",
    "    r - allocation vector\n",
    "    rho - weight factor\n",
    "    \n",
    "    Return \n",
    "    w - market shock\n",
    "    ita - idiosyncractic risk\n",
    "    V - common factor that affects the economy\n",
    "    x - market value\n",
    "    u - an instance of U(0,1) for y\n",
    "    y - ROI\n",
    "    '''\n",
    "    w, ita, V = generate_initialization_rv(number_of_companies, market_shock_rate)\n",
    "    x = generate_x(w, ita, V, rho)\n",
    "    U, y = generate_y(r, x, investor_type)\n",
    "    return w, ita, V, x, U, y"
   ]
  },
  {
   "cell_type": "markdown",
   "metadata": {},
   "source": [
    "<h3>Vector Transformation Function</h3>"
   ]
  },
  {
   "cell_type": "code",
   "execution_count": null,
   "metadata": {
    "collapsed": true
   },
   "outputs": [],
   "source": [
    "def get_allocation_vector(theta):\n",
    "    '''\n",
    "    Transform theta into allocation vector\n",
    "    '''\n",
    "    if len(theta) == 2:\n",
    "        r_1 = math.cos(theta[0])\n",
    "        r_2 = math.cos(theta[1])*math.sin(theta[0])\n",
    "        r_3 = math.sin(theta[0])*math.sin(theta[1])\n",
    "        return r_1, r_2, r_3\n",
    "    else:\n",
    "        raise(\"Only n=3 (i.e. 2-degree of freedom) is supported.\")\n",
    "\n",
    "def get_allocation_vector_gradient(theta):\n",
    "    '''\n",
    "    Get allocation vector gradient with given thetas\n",
    "    '''\n",
    "    if len(theta) == 2:\n",
    "        dr1_dt1 = -math.sin(theta[0])\n",
    "        dr1_dt2 = 0\n",
    "        dr2_dt1 = math.cos(theta[1])*math.cos(theta[0])\n",
    "        dr2_dt2 = -math.sin(theta[1])*math.sin(theta[0])\n",
    "        dr3_dt1 = math.cos(theta[0])*math.sin(theta[1])\n",
    "        dr3_dt2 = math.cos(theta[1])*math.sin(theta[0])\n",
    "        return [dr1_dt1, dr1_dt2], [dr2_dt1, dr2_dt2], [dr3_dt1, dr3_dt2]\n",
    "    else:\n",
    "        raise(\"Only n=3 (i.e. 2-degree of freedom) is supported.\")"
   ]
  },
  {
   "cell_type": "markdown",
   "metadata": {},
   "source": [
    "<h3>Loss and Gradient Computation</h3>"
   ]
  },
  {
   "cell_type": "code",
   "execution_count": null,
   "metadata": {
    "collapsed": true
   },
   "outputs": [],
   "source": [
    "def get_loss_gradient(w, ita, V, x, u, y, thresholds, theta, investor_type):\n",
    "    '''\n",
    "    Providing an instance of random variables, thresholds and thetas, find the loss gradient for gradient descent\n",
    "    ---------------------------\n",
    "    Parameters\n",
    "    w - market shock\n",
    "    ita - idiosyncractic risk\n",
    "    V - common factor that affects the economy\n",
    "    x - market value\n",
    "    U - an instance of U(0,1) for y\n",
    "    y - ROI\n",
    "    thresholds - an array with threshold for each company\n",
    "    investor_type - \"big\" or \"small\"\n",
    "    \n",
    "    Return\n",
    "    A 2-d array with gradient update for each theta\n",
    "    '''\n",
    "    degree_of_freedom = len(theta)\n",
    "    r = get_allocation_vector(theta)\n",
    "    dr_dt = get_allocation_vector_gradient(theta)\n",
    "    total_gradient = np.zeros(degree_of_freedom)\n",
    "    for i in range(degree_of_freedom):\n",
    "        for j in range(degree_of_freedom+1):\n",
    "            if investor_type == \"big\":\n",
    "                 total_gradient[i] += 2*f_indicator(x[j]>=thresholds[j])*(y[j]*r[j]*dr_dt[j][i]+(r[j]**3)*U[j]*x[j]*dr_dt[j][i])\n",
    "            elif investor_type == \"small\":\n",
    "                total_gradient[i] += 2*f_indicator(x[j]>=thresholds[j])*r[j]*dr_dt[j][i]*y[j]\n",
    "            else:\n",
    "                raise(\"Investor type not supported\")\n",
    "    return total_gradient\n",
    "                   \n",
    "def get_loss(w, ita, V, x, u, y, thresholds, theta):\n",
    "    '''\n",
    "    Providing an instance of random variables, thresholds and thetas, find the loss\n",
    "    ---------------------------\n",
    "    Parameters\n",
    "    w - market shock\n",
    "    ita - idiosyncractic risk\n",
    "    V - common factor that affects the economy\n",
    "    x - market value\n",
    "    u - an instance of U(0,1) for y\n",
    "    y - ROI\n",
    "    thresholds - an array with threshold for each company\n",
    "    '''\n",
    "    degree_of_freedom = len(theta)\n",
    "    r = get_allocation_vector(theta)\n",
    "    loss = 0\n",
    "    for i in range(degree_of_freedom+1):\n",
    "        loss += (r[i]**2)*y[i]*f_indicator(x[i]>=thresholds[i])\n",
    "    return loss"
   ]
  },
  {
   "cell_type": "markdown",
   "metadata": {
    "collapsed": true
   },
   "source": [
    "<h3>Gradient Descent</h3>"
   ]
  },
  {
   "cell_type": "code",
   "execution_count": 14,
   "metadata": {
    "collapsed": true
   },
   "outputs": [],
   "source": [
    "theta = [1.5, 1.5]\n",
    "thresholds = [2,3,1]\n",
    "rho = 0.6\n",
    "common_market_shock_rate = 1./0.3\n",
    "investor_type = \"small\""
   ]
  },
  {
   "cell_type": "code",
   "execution_count": null,
   "metadata": {
    "collapsed": true
   },
   "outputs": [],
   "source": [
    "iterations = 5e5\n",
    "epsilon = 1e-4\n",
    "theta_history = \n",
    "loss_history = np.zeros(iterations)\n",
    "for i in range(iterations):\n",
    "    r = get_allocation_vector(theta[0], theta[1])\n",
    "    w, ita, V, x, U, y = generate_rv(r, rho, market_shock_rate, investor_type)\n",
    "    loss = get_loss(w, ita, V, x, u, y, thresholds, theta[0], theta[1])\n",
    "    loss_gradient = get_loss_gradient(w, ita, V, x, u, y, thresholds, theta[0], theta[1], investor_type)\n",
    "    theta -= epsilon*loss_gradient"
   ]
  }
 ],
 "metadata": {
  "anaconda-cloud": {},
  "kernelspec": {
   "display_name": "Python [conda env:py35]",
   "language": "python",
   "name": "conda-env-py35-py"
  },
  "language_info": {
   "codemirror_mode": {
    "name": "ipython",
    "version": 3
   },
   "file_extension": ".py",
   "mimetype": "text/x-python",
   "name": "python",
   "nbconvert_exporter": "python",
   "pygments_lexer": "ipython3",
   "version": "3.5.4"
  }
 },
 "nbformat": 4,
 "nbformat_minor": 1
}
