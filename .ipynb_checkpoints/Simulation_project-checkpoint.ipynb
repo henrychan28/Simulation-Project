{
 "cells": [
  {
   "cell_type": "markdown",
   "metadata": {},
   "source": [
    "<h3>Import Libraries</h3>"
   ]
  },
  {
   "cell_type": "code",
   "execution_count": 1,
   "metadata": {
    "collapsed": true
   },
   "outputs": [],
   "source": [
    "import random\n",
    "import math\n",
    "\n",
    "import numpy as np\n",
    "import matplotlib.pyplot as plt\n",
    "\n",
    "np.random.seed(5)\n",
    "%matplotlib inline"
   ]
  },
  {
   "cell_type": "markdown",
   "metadata": {},
   "source": [
    "<h3>Helper Function</h3>"
   ]
  },
  {
   "cell_type": "code",
   "execution_count": 2,
   "metadata": {
    "collapsed": true
   },
   "outputs": [],
   "source": [
    "def f_indicator(boolean):\n",
    "    return 1 if boolean else 0"
   ]
  },
  {
   "cell_type": "markdown",
   "metadata": {},
   "source": [
    "<h3>Random Variable Generation</h3>"
   ]
  },
  {
   "cell_type": "code",
   "execution_count": 3,
   "metadata": {
    "collapsed": true
   },
   "outputs": [],
   "source": [
    "def generate_initialization_rv(number_of_companies, market_shock_rate):\n",
    "    '''\n",
    "    Generate all initial variables for simulating Market Value and ROI\n",
    "    ----------------------\n",
    "    Return\n",
    "    w - market shock\n",
    "    ita - idiosyncractic risk\n",
    "    V - common factor that affects the economy\n",
    "    '''\n",
    "    w = np.random.exponential(1/market_shock_rate)\n",
    "    V = np.random.normal()\n",
    "    ita = np.zeros(number_of_companies)\n",
    "    for i in range(number_of_companies):\n",
    "        ita[i] = np.random.normal(loc=0., scale=(i+1)**0.5)\n",
    "    return w, ita, V\n",
    "\n",
    "def generate_x(w, ita, V, rho):\n",
    "    '''\n",
    "    Generate an instance of market value of the company according to given variables\n",
    "    -------------------\n",
    "    Parameters:\n",
    "    w - market shock\n",
    "    ita - idiosyncractic risk\n",
    "    V - common factor that affects the economy\n",
    "    rho - weight factor\n",
    "    \n",
    "    Return\n",
    "    Market value of the company\n",
    "    '''\n",
    "    return (rho*V+ita*(1-rho**2)**0.5)/max(1, w)\n",
    "\n",
    "def generate_y(r, x, investor_type):\n",
    "    '''\n",
    "    Generate an instance of return on the investment\n",
    "    ---------------------\n",
    "    Parameters\n",
    "    r - allocation vector\n",
    "    x - market value of the company\n",
    "    \n",
    "    Return\n",
    "    U - Instance of uniform distribution r.v.\n",
    "    y - Return on the investment (ROI)\n",
    "    '''\n",
    "    number_of_companies = len(x)\n",
    "    y = np.zeros(number_of_companies)\n",
    "    U = np.zeros(number_of_companies)\n",
    "    for i in range(len(x)):\n",
    "        U[i] = random.random()\n",
    "        if investor_type == \"big\":\n",
    "            y[i] = ((i+1) + x[i]*r[i]**2)*U[i]\n",
    "        elif investor_type == \"small\":\n",
    "            y[i] = x[i]*U[i]\n",
    "        else:\n",
    "            raise(\"Investor type not supported\")\n",
    "    return U, y\n",
    "\n",
    "def generate_rv(r, rho, market_shock_rate, investor_type, number_of_companies=3):\n",
    "    '''\n",
    "    Simulate one instance of Market Return and ROI\n",
    "    -------------------------\n",
    "    Parameters\n",
    "    r - allocation vector\n",
    "    rho - weight factor\n",
    "    \n",
    "    Return \n",
    "    w - market shock\n",
    "    ita - idiosyncractic risk\n",
    "    V - common factor that affects the economy\n",
    "    x - market value\n",
    "    u - an instance of U(0,1) for y\n",
    "    y - ROI\n",
    "    '''\n",
    "    w, ita, V = generate_initialization_rv(number_of_companies, market_shock_rate)\n",
    "    x = generate_x(w, ita, V, rho)\n",
    "    U, y = generate_y(r, x, investor_type)\n",
    "    return w, ita, V, x, U, y"
   ]
  },
  {
   "cell_type": "markdown",
   "metadata": {},
   "source": [
    "<h3>Vector Transformation Function</h3>"
   ]
  },
  {
   "cell_type": "code",
   "execution_count": 4,
   "metadata": {
    "collapsed": true
   },
   "outputs": [],
   "source": [
    "def get_allocation_vector(theta):\n",
    "    '''\n",
    "    Transform theta into allocation vector\n",
    "    '''\n",
    "    if len(theta) == 2:\n",
    "        r_1 = math.cos(theta[0])\n",
    "        r_2 = math.cos(theta[1])*math.sin(theta[0])\n",
    "        r_3 = math.sin(theta[0])*math.sin(theta[1])\n",
    "        return r_1, r_2, r_3\n",
    "    else:\n",
    "        raise(\"Only n=3 (i.e. 2-degree of freedom) is supported.\")\n",
    "\n",
    "def get_allocation_vector_gradient(theta):\n",
    "    '''\n",
    "    Get allocation vector gradient with given thetas\n",
    "    '''\n",
    "    if len(theta) == 2:\n",
    "        dr1_dt1 = -math.sin(theta[0])\n",
    "        dr1_dt2 = 0\n",
    "        dr2_dt1 = math.cos(theta[0])*math.cos(theta[1])\n",
    "        dr2_dt2 = -math.sin(theta[0])*math.sin(theta[1])\n",
    "        dr3_dt1 = math.cos(theta[0])*math.sin(theta[1])\n",
    "        dr3_dt2 = math.cos(theta[1])*math.sin(theta[0])\n",
    "        return [dr1_dt1, dr1_dt2], [dr2_dt1, dr2_dt2], [dr3_dt1, dr3_dt2]\n",
    "    else:\n",
    "        raise(\"Only n=3 (i.e. 2-degree of freedom) is supported.\")"
   ]
  },
  {
   "cell_type": "markdown",
   "metadata": {},
   "source": [
    "<h3>Loss and Gradient Computation</h3>"
   ]
  },
  {
   "cell_type": "code",
   "execution_count": 5,
   "metadata": {
    "collapsed": true
   },
   "outputs": [],
   "source": [
    "def get_loss_gradient(w, ita, V, x, u, y, thresholds, theta, investor_type):\n",
    "    '''\n",
    "    Providing an instance of random variables, thresholds and thetas, find the loss gradient for gradient descent\n",
    "    ---------------------------\n",
    "    Parameters\n",
    "    w - market shock\n",
    "    ita - idiosyncractic risk\n",
    "    V - common factor that affects the economy\n",
    "    x - market value\n",
    "    U - an instance of U(0,1) for y\n",
    "    y - ROI\n",
    "    thresholds - an array with threshold for each company\n",
    "    investor_type - \"big\" or \"small\"\n",
    "    \n",
    "    Return\n",
    "    A 2-d array with gradient update for each theta\n",
    "    '''\n",
    "    degree_of_freedom = len(theta)\n",
    "    r = get_allocation_vector(theta)\n",
    "    dr_dt = get_allocation_vector_gradient(theta)\n",
    "    total_gradient = np.zeros(degree_of_freedom)\n",
    "    for i in range(degree_of_freedom):\n",
    "        for j in range(degree_of_freedom+1):\n",
    "            if investor_type == \"big\":\n",
    "                 total_gradient[i] += 2*f_indicator(x[j]>=thresholds[j])*(y[j]*r[j]*dr_dt[j][i]+(r[j]**3)*U[j]*x[j]*dr_dt[j][i])\n",
    "            elif investor_type == \"small\":\n",
    "                total_gradient[i] += 2*f_indicator(x[j]>=thresholds[j])*r[j]*dr_dt[j][i]*y[j]\n",
    "            else:\n",
    "                raise(\"Investor type not supported\")\n",
    "    return total_gradient\n",
    "                   \n",
    "def get_return(w, ita, V, x, u, y, thresholds, theta):\n",
    "    '''\n",
    "    Providing an instance of random variables, thresholds and thetas, find the loss\n",
    "    ---------------------------\n",
    "    Parameters\n",
    "    w - market shock\n",
    "    ita - idiosyncractic risk\n",
    "    V - common factor that affects the economy\n",
    "    x - market value\n",
    "    u - an instance of U(0,1) for y\n",
    "    y - ROI\n",
    "    thresholds - an array with threshold for each company\n",
    "    '''\n",
    "    degree_of_freedom = len(theta)\n",
    "    r = get_allocation_vector(theta)\n",
    "    loss = 0\n",
    "    for i in range(degree_of_freedom+1):\n",
    "        loss += (r[i]**2)*y[i]*f_indicator(x[i]>=thresholds[i])\n",
    "    return loss"
   ]
  },
  {
   "cell_type": "code",
   "execution_count": 6,
   "metadata": {
    "collapsed": true
   },
   "outputs": [],
   "source": [
    "def simulate_returns(thresholds, theta, market_shock_rate, investor_type, iterations=int(1e6)):\n",
    "    '''\n",
    "    Simulate expected return given an investment strategy (i.e. theta) and market properties\n",
    "    -------------------------------\n",
    "    Parameters\n",
    "    thresholds - an array with threshold for each company\n",
    "    investor_type - \"big\"/\"small\"\n",
    "    \n",
    "    Return\n",
    "    An array with simulation result of returns\n",
    "    '''\n",
    "    r = get_allocation_vector(theta)\n",
    "    return_history = np.zeros(iterations)\n",
    "    for i in range(iterations):\n",
    "        w, ita, V, x, U, y = generate_rv(r, rho, market_shock_rate, investor_type)\n",
    "        return_history[i] = get_return(w, ita, V, x, U, y, thresholds, theta)\n",
    "    return return_history"
   ]
  },
  {
   "cell_type": "markdown",
   "metadata": {
    "collapsed": true
   },
   "source": [
    "<h3>Gradient Descent</h3>"
   ]
  },
  {
   "cell_type": "markdown",
   "metadata": {},
   "source": [
    "<h4>Problem Parameters</h4>"
   ]
  },
  {
   "cell_type": "code",
   "execution_count": 7,
   "metadata": {
    "collapsed": true
   },
   "outputs": [],
   "source": [
    "thresholds = [2,3,1]\n",
    "rho = 0.6\n",
    "market_shock_rate = 1./0.3"
   ]
  },
  {
   "cell_type": "markdown",
   "metadata": {},
   "source": [
    "<h4>Small Investor</h4>"
   ]
  },
  {
   "cell_type": "code",
   "execution_count": 8,
   "metadata": {
    "collapsed": false
   },
   "outputs": [],
   "source": [
    "investor_type = \"small\"\n",
    "iterations = int(5e5)\n",
    "epsilon = 1e-4\n",
    "theta_small = [0.5, 0.5]\n",
    "theta_history_small = np.zeros([iterations, 2])\n",
    "for i in range(iterations):\n",
    "    theta_history_small[i] = theta_small\n",
    "    r = get_allocation_vector(theta_small)\n",
    "    w, ita, V, x, U, y = generate_rv(r, rho, market_shock_rate, investor_type)\n",
    "    loss_gradient = get_loss_gradient(w, ita, V, x, U, y, thresholds, theta_small, investor_type)\n",
    "    theta_small += epsilon*loss_gradient"
   ]
  },
  {
   "cell_type": "code",
   "execution_count": 9,
   "metadata": {
    "collapsed": false
   },
   "outputs": [
    {
     "data": {
      "text/plain": [
       "[<matplotlib.lines.Line2D at 0x24519df3588>,\n",
       " <matplotlib.lines.Line2D at 0x2451c6343c8>]"
      ]
     },
     "execution_count": 9,
     "metadata": {},
     "output_type": "execute_result"
    },
    {
     "data": {
      "image/png": "[encoded data removed]",
      "text/plain": [
       "<matplotlib.figure.Figure at 0x24519df3b00>"
      ]
     },
     "metadata": {
      "needs_background": "light"
     },
     "output_type": "display_data"
    }
   ],
   "source": [
    "plt.xlabel(\"iterations\")\n",
    "plt.ylabel(\"theta\")\n",
    "plt.plot([i for i in range(iterations)], theta_history_small)"
   ]
  },
  {
   "cell_type": "code",
   "execution_count": 10,
   "metadata": {
    "collapsed": false
   },
   "outputs": [],
   "source": [
    "return_history_small = simulate_returns(thresholds, theta_small, market_shock_rate, investor_type)"
   ]
  },
  {
   "cell_type": "code",
   "execution_count": 11,
   "metadata": {
    "collapsed": false
   },
   "outputs": [
    {
     "name": "stdout",
     "output_type": "stream",
     "text": [
      "Optimal theta [theta_1, theta_2]: [ 1.57079632  1.57079632]\n",
      "Mean of return: 0.2394430271101888\n"
     ]
    }
   ],
   "source": [
    "print(\"Optimal theta [theta_1, theta_2]: {0}\".format(theta_small))\n",
    "print(\"Mean of return: {0}\".format(return_history_small.mean()))"
   ]
  },
  {
   "cell_type": "markdown",
   "metadata": {},
   "source": [
    "<h4>Big Investor</h4>"
   ]
  },
  {
   "cell_type": "code",
   "execution_count": 12,
   "metadata": {
    "collapsed": false
   },
   "outputs": [],
   "source": [
    "investor_type = \"big\"\n",
    "iterations = int(5e5)\n",
    "epsilon = 1e-4\n",
    "theta_big = [0.5, 0.5]\n",
    "theta_history_big = np.zeros([iterations, 2])\n",
    "for i in range(iterations):\n",
    "    theta_history_big[i] = theta_big\n",
    "    r = get_allocation_vector(theta_big)\n",
    "    w, ita, V, x, U, y = generate_rv(r, rho, market_shock_rate, investor_type)\n",
    "    loss_gradient = get_loss_gradient(w, ita, V, x, U, y, thresholds, theta_big, investor_type)\n",
    "    theta_big += epsilon*loss_gradient"
   ]
  },
  {
   "cell_type": "code",
   "execution_count": 13,
   "metadata": {
    "collapsed": false
   },
   "outputs": [
    {
     "data": {
      "text/plain": [
       "[<matplotlib.lines.Line2D at 0x2451d46c940>,\n",
       " <matplotlib.lines.Line2D at 0x2451ce6fc88>]"
      ]
     },
     "execution_count": 13,
     "metadata": {},
     "output_type": "execute_result"
    },
    {
     "data": {
      "image/png": "[encoded data removed]",
      "text/plain": [
       "<matplotlib.figure.Figure at 0x2451d46c3c8>"
      ]
     },
     "metadata": {
      "needs_background": "light"
     },
     "output_type": "display_data"
    }
   ],
   "source": [
    "plt.xlabel(\"iterations\")\n",
    "plt.ylabel(\"theta\")\n",
    "plt.plot([i for i in range(iterations)], theta_history_big)"
   ]
  },
  {
   "cell_type": "code",
   "execution_count": 14,
   "metadata": {
    "collapsed": false
   },
   "outputs": [],
   "source": [
    "return_history_big = simulate_returns(thresholds, theta_big, market_shock_rate, investor_type)"
   ]
  },
  {
   "cell_type": "code",
   "execution_count": 15,
   "metadata": {
    "collapsed": false,
    "scrolled": true
   },
   "outputs": [
    {
     "name": "stdout",
     "output_type": "stream",
     "text": [
      "Optimal theta [theta_1, theta_2]: [ 1.57079633  1.57079633]\n",
      "Mean of return: 0.6159167183081177\n"
     ]
    }
   ],
   "source": [
    "print(\"Optimal theta [theta_1, theta_2]: {0}\".format(theta_big))\n",
    "print(\"Mean of return: {0}\".format(return_history_big.mean()))"
   ]
  },
  {
   "cell_type": "markdown",
   "metadata": {},
   "source": [
    "<h4>Penalty Method</h4>"
   ]
  },
  {
   "cell_type": "code",
   "execution_count": 16,
   "metadata": {
    "collapsed": true
   },
   "outputs": [],
   "source": [
    "thresholds = [2,3,1]\n",
    "rho = 0.6\n",
    "market_shock_rate = 1./0.3"
   ]
  },
  {
   "cell_type": "code",
   "execution_count": 17,
   "metadata": {
    "collapsed": false
   },
   "outputs": [],
   "source": [
    "investor_type = \"small\"\n",
    "iterations = int(5e5)\n",
    "epsilon = 1e-4\n",
    "lambda_value = 0.2\n",
    "theta_penalty = [0.5, 0.8]\n",
    "theta_history_penalty = np.zeros([iterations, 2])\n",
    "for k in range(iterations):\n",
    "    theta_history_penalty[k] = theta_penalty\n",
    "    r = get_allocation_vector(theta_penalty)\n",
    "    dr_dt = get_allocation_vector_gradient(theta_penalty)\n",
    "    w, ita, V, x, U, y = generate_rv(r, rho, market_shock_rate, investor_type)\n",
    "    loss_gradient = get_loss_gradient(w, ita, V, x, U, y, thresholds, theta_penalty, investor_type)\n",
    "    penalty = np.zeros(2)\n",
    "    for i in range(2):\n",
    "        for j in range(3):\n",
    "            penalty[i] -= lambda_value*4*(r[j]**3)*dr_dt[j][i]\n",
    "    theta_penalty += epsilon*(loss_gradient+penalty)"
   ]
  },
  {
   "cell_type": "code",
   "execution_count": 18,
   "metadata": {
    "collapsed": false
   },
   "outputs": [
    {
     "data": {
      "text/plain": [
       "[<matplotlib.lines.Line2D at 0x2451ef13eb8>,\n",
       " <matplotlib.lines.Line2D at 0x2451cead9b0>]"
      ]
     },
     "execution_count": 18,
     "metadata": {},
     "output_type": "execute_result"
    },
    {
     "data": {
      "image/png": "[encoded data removed]",
      "text/plain": [
       "<matplotlib.figure.Figure at 0x2451ef13ef0>"
      ]
     },
     "metadata": {
      "needs_background": "light"
     },
     "output_type": "display_data"
    }
   ],
   "source": [
    "plt.xlabel(\"iterations\")\n",
    "plt.ylabel(\"theta\")\n",
    "plt.plot([i for i in range(iterations)], theta_history_penalty)"
   ]
  },
  {
   "cell_type": "code",
   "execution_count": 20,
   "metadata": {
    "collapsed": true
   },
   "outputs": [],
   "source": [
    "return_history_penalty = simulate_returns(thresholds, theta_penalty, market_shock_rate, investor_type)"
   ]
  },
  {
   "cell_type": "code",
   "execution_count": 21,
   "metadata": {
    "collapsed": false
   },
   "outputs": [
    {
     "name": "stdout",
     "output_type": "stream",
     "text": [
      "Optimal theta [theta_1, theta_2]: [ 1.15076444  1.14834431]\n",
      "Mean of return: 0.17346674270411086\n"
     ]
    }
   ],
   "source": [
    "print(\"Optimal theta [theta_1, theta_2]: {0}\".format(theta_penalty))\n",
    "print(\"Mean of return: {0}\".format(return_history_penalty.mean()))"
   ]
  }
 ],
 "metadata": {
  "anaconda-cloud": {},
  "kernelspec": {
   "display_name": "Python [conda env:py35]",
   "language": "python",
   "name": "conda-env-py35-py"
  },
  "language_info": {
   "codemirror_mode": {
    "name": "ipython",
    "version": 3
   },
   "file_extension": ".py",
   "mimetype": "text/x-python",
   "name": "python",
   "nbconvert_exporter": "python",
   "pygments_lexer": "ipython3",
   "version": "3.5.4"
  }
 },
 "nbformat": 4,
 "nbformat_minor": 1
}
