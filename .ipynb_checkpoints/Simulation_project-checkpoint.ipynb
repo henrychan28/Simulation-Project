{
 "cells": [
  {
   "cell_type": "code",
   "execution_count": 58,
   "metadata": {
    "collapsed": true
   },
   "outputs": [],
   "source": [
    "import random\n",
    "import math\n",
    "\n",
    "import numpy as np"
   ]
  },
  {
   "cell_type": "code",
   "execution_count": 63,
   "metadata": {
    "collapsed": true
   },
   "outputs": [],
   "source": [
    "def f_indicator(boolean):\n",
    "    return 1 if boolean else 0"
   ]
  },
  {
   "cell_type": "code",
   "execution_count": 49,
   "metadata": {
    "collapsed": true
   },
   "outputs": [],
   "source": [
    "def generate_x(w, ita, V, rho):\n",
    "    '''\n",
    "    Generate an instance of market value of the company according to given variables\n",
    "    -------------------\n",
    "    Parameters:\n",
    "    w - market shock\n",
    "    ita - idiosyncractic risk\n",
    "    V - common factor that affects the economy\n",
    "    rho - weight factor\n",
    "    \n",
    "    Return\n",
    "    Market value of the company\n",
    "    '''\n",
    "    return (rho*V+ita*(1-rho**2)**0.5)/max(1, w)"
   ]
  },
  {
   "cell_type": "code",
   "execution_count": 50,
   "metadata": {
    "collapsed": true
   },
   "outputs": [],
   "source": [
    "def generate_y_big_investor(i, r, x):\n",
    "    '''\n",
    "    Generate an instance of return on the investment \n",
    "    ---------------------\n",
    "    Parameters\n",
    "    i - the company index \n",
    "    r - allocation vector\n",
    "    x - market value of the company\n",
    "    \n",
    "    Return\n",
    "    Return on the investment (ROI)\n",
    "    '''\n",
    "    u = random.random()\n",
    "    return u, u*(i+x*r**2)"
   ]
  },
  {
   "cell_type": "code",
   "execution_count": 69,
   "metadata": {
    "collapsed": true
   },
   "outputs": [],
   "source": [
    "def generate_y_small_investor(x):\n",
    "    u = random.random()\n",
    "    return u, u*x"
   ]
  },
  {
   "cell_type": "code",
   "execution_count": 51,
   "metadata": {
    "collapsed": true
   },
   "outputs": [],
   "source": [
    "def generate_initialization_rv(i):\n",
    "    '''\n",
    "    Generate all initial variables for simulating Market Value and ROI\n",
    "    ----------------------\n",
    "    Parameters\n",
    "    i - company index\n",
    "    \n",
    "    Return\n",
    "    w - market shock\n",
    "    ita - idiosyncractic risk\n",
    "    V - common factor that affects the economy\n",
    "    '''\n",
    "    w = np.random.exponential()\n",
    "    ita = np.random.normal(i**0.5)\n",
    "    V = np.random.normal()\n",
    "    return w, ita, V"
   ]
  },
  {
   "cell_type": "code",
   "execution_count": 52,
   "metadata": {
    "collapsed": true
   },
   "outputs": [],
   "source": [
    "def generate_rv_big_investor(i, r, rho):\n",
    "    '''\n",
    "    Simulate one instance of Market Return and ROI\n",
    "    -------------------------\n",
    "    Parameters\n",
    "    i - company index\n",
    "    r - allocation vector\n",
    "    rho - weight factor\n",
    "    \n",
    "    Return \n",
    "    w - market shock\n",
    "    ita - idiosyncractic risk\n",
    "    V - common factor that affects the economy\n",
    "    x - market value\n",
    "    u - an instance of U(0,1) for y\n",
    "    y - ROI\n",
    "    '''\n",
    "    w, ita, V = generate_initialization_rv(i)\n",
    "    x = generate_x(w, ita, V, rho)\n",
    "    u, y = generate_y_big_investor(i, r, x)\n",
    "    return w, ita, V, x, u, y"
   ]
  },
  {
   "cell_type": "code",
   "execution_count": null,
   "metadata": {
    "collapsed": true
   },
   "outputs": [],
   "source": []
  },
  {
   "cell_type": "code",
   "execution_count": 59,
   "metadata": {
    "collapsed": true
   },
   "outputs": [],
   "source": [
    "def get_allocation_vector(theta_1, theta_2):\n",
    "    '''\n",
    "    Transform theta into allocation vector\n",
    "    '''\n",
    "    r_1 = math.cos(theta_1)\n",
    "    r_2 = math.cos(theta_2)*math.sin(theta_1)\n",
    "    r_3 = math.sin(theta_1)*math.sin(theta_2)\n",
    "    return r_1, r_2, r_3"
   ]
  },
  {
   "cell_type": "code",
   "execution_count": 62,
   "metadata": {
    "collapsed": true
   },
   "outputs": [],
   "source": [
    "def get_allocation_vector_gradient(theta_1, theta_2):\n",
    "    '''\n",
    "    Get allocation vector gradient with given thetas\n",
    "    '''\n",
    "    dr1_dt1 = -math.sin(theta_1)\n",
    "    dr1_dt2 = 0\n",
    "    dr2_dt1 = math.cos(theta_2)*math.cos(theta_1)\n",
    "    dr2_dt2 = -math.sin(theta_2)*math.sin(theta_1)\n",
    "    dr3_dt1 = math.cos(theta_1)*math.sin(theta_2)\n",
    "    dr3_dt2 = math.cos(theta_2)*math.sin(theta_1)\n",
    "    return [dr1_dt1, dr1_dt2], [dr2_dt1, dr2_dt2], [dr3_dt1, dr3_dt2]"
   ]
  },
  {
   "cell_type": "code",
   "execution_count": 67,
   "metadata": {
    "collapsed": true
   },
   "outputs": [],
   "source": [
    "def get_loss_gradient(w, ita, V, x, u, y, thresholds, theta_1, theta_2):\n",
    "    '''\n",
    "    Providing an instance of random variables, thresholds and thetas, find the loss gradient for gradient descent\n",
    "    ---------------------------\n",
    "    Parameters\n",
    "    w - market shock\n",
    "    ita - idiosyncractic risk\n",
    "    V - common factor that affects the economy\n",
    "    x - market value\n",
    "    u - an instance of U(0,1) for y\n",
    "    y - ROI\n",
    "    thresholds - an array with threshold for each company\n",
    "    \n",
    "    Return\n",
    "    A 2-d array with gradient update for each theta\n",
    "    '''\n",
    "    degree_of_freedom=2\n",
    "    r = get_allocation_vector(theta_1, theta_2)\n",
    "    dr_dt = get_allocation_vector_gradient(theta_1, theta_2)\n",
    "    total_gradient = np.zeros(degree_of_freedom)\n",
    "    for i in range(degree_of_freedom):\n",
    "        for j in range(degree_of_freedom+1):\n",
    "             total_gradient[i] += 2*f_indicator(x[j]>=thresholds[j])*(y[j]*r[j]*dr_dt[j][i]+(r[j]**2)*u*x[j]*r[j]*dr_dt[j][i])\n",
    "    return total_gradient"
   ]
  },
  {
   "cell_type": "code",
   "execution_count": 68,
   "metadata": {
    "collapsed": true
   },
   "outputs": [],
   "source": [
    "def get_loss(w, ita, V, x, u, y, thresholds, theta_1, theta_2):\n",
    "    '''\n",
    "    Providing an instance of random variables, thresholds and thetas, find the loss\n",
    "    ---------------------------\n",
    "    Parameters\n",
    "    w - market shock\n",
    "    ita - idiosyncractic risk\n",
    "    V - common factor that affects the economy\n",
    "    x - market value\n",
    "    u - an instance of U(0,1) for y\n",
    "    y - ROI\n",
    "    thresholds - an array with threshold for each company\n",
    "    '''\n",
    "    degree_of_freedom=2\n",
    "    r = get_allocation_vector(theta_1, theta_2)\n",
    "    loss = 0\n",
    "    for i in range(degree_of_freedom+1):\n",
    "        loss += (r[i]**2)*y[i]*f_indicator(x[i]>=thresholds[i])\n",
    "    return loss"
   ]
  },
  {
   "cell_type": "code",
   "execution_count": null,
   "metadata": {
    "collapsed": true
   },
   "outputs": [],
   "source": []
  },
  {
   "cell_type": "code",
   "execution_count": null,
   "metadata": {
    "collapsed": true
   },
   "outputs": [],
   "source": []
  },
  {
   "cell_type": "code",
   "execution_count": null,
   "metadata": {
    "collapsed": true
   },
   "outputs": [],
   "source": []
  },
  {
   "cell_type": "code",
   "execution_count": 66,
   "metadata": {
    "collapsed": false
   },
   "outputs": [
    {
     "data": {
      "text/plain": [
       "array([ 0.,  0.])"
      ]
     },
     "execution_count": 66,
     "metadata": {},
     "output_type": "execute_result"
    }
   ],
   "source": [
    "np.zeros(2)"
   ]
  },
  {
   "cell_type": "code",
   "execution_count": 64,
   "metadata": {
    "collapsed": true
   },
   "outputs": [],
   "source": [
    "def a():\n",
    "    return 1,2,3"
   ]
  },
  {
   "cell_type": "code",
   "execution_count": 65,
   "metadata": {
    "collapsed": false
   },
   "outputs": [
    {
     "data": {
      "text/plain": [
       "(1, 2, 3)"
      ]
     },
     "execution_count": 65,
     "metadata": {},
     "output_type": "execute_result"
    }
   ],
   "source": [
    "a()"
   ]
  },
  {
   "cell_type": "code",
   "execution_count": null,
   "metadata": {
    "collapsed": true
   },
   "outputs": [],
   "source": []
  },
  {
   "cell_type": "code",
   "execution_count": null,
   "metadata": {
    "collapsed": true
   },
   "outputs": [],
   "source": []
  },
  {
   "cell_type": "code",
   "execution_count": null,
   "metadata": {
    "collapsed": true
   },
   "outputs": [],
   "source": []
  }
 ],
 "metadata": {
  "anaconda-cloud": {},
  "kernelspec": {
   "display_name": "Python [conda env:py35]",
   "language": "python",
   "name": "conda-env-py35-py"
  },
  "language_info": {
   "codemirror_mode": {
    "name": "ipython",
    "version": 3
   },
   "file_extension": ".py",
   "mimetype": "text/x-python",
   "name": "python",
   "nbconvert_exporter": "python",
   "pygments_lexer": "ipython3",
   "version": "3.5.4"
  }
 },
 "nbformat": 4,
 "nbformat_minor": 1
}
